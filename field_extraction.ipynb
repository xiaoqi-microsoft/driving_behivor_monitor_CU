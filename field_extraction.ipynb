{
 "cells": [
  {
   "cell_type": "markdown",
   "metadata": {},
   "source": [
    "# Extract Custom Fields from Your File"
   ]
  },
  {
   "cell_type": "markdown",
   "metadata": {},
   "source": [
    "This notebook demonstrates how to use analyzers to extract custom fields from your input files."
   ]
  },
  {
   "cell_type": "markdown",
   "metadata": {},
   "source": [
    "## Prerequisites\n",
    "1. Ensure Azure AI service is configured following [steps](../README.md#configure-azure-ai-service-resource)\n",
    "2. Install the required packages to run the sample."
   ]
  },
  {
   "cell_type": "code",
   "execution_count": 200,
   "metadata": {},
   "outputs": [
    {
     "name": "stdout",
     "output_type": "stream",
     "text": [
      "Requirement already satisfied: azure-identity in c:\\python312\\lib\\site-packages (from -r ../requirements.txt (line 1)) (1.19.0)Note: you may need to restart the kernel to use updated packages.\n"
     ]
    },
    {
     "name": "stderr",
     "output_type": "stream",
     "text": [
      "WARNING: Ignoring invalid distribution ~ip (c:\\Python312\\Lib\\site-packages)\n",
      "WARNING: Ignoring invalid distribution ~ip (c:\\Python312\\Lib\\site-packages)\n",
      "WARNING: Ignoring invalid distribution ~ip (c:\\Python312\\Lib\\site-packages)\n"
     ]
    },
    {
     "name": "stdout",
     "output_type": "stream",
     "text": [
      "\n",
      "Requirement already satisfied: python-dotenv in c:\\python312\\lib\\site-packages (from -r ../requirements.txt (line 2)) (1.0.1)\n",
      "Requirement already satisfied: requests in c:\\python312\\lib\\site-packages (from -r ../requirements.txt (line 3)) (2.32.3)\n",
      "Requirement already satisfied: Pillow in c:\\python312\\lib\\site-packages (from -r ../requirements.txt (line 4)) (10.2.0)\n",
      "Requirement already satisfied: azure-core>=1.31.0 in c:\\python312\\lib\\site-packages (from azure-identity->-r ../requirements.txt (line 1)) (1.32.0)\n",
      "Requirement already satisfied: cryptography>=2.5 in c:\\python312\\lib\\site-packages (from azure-identity->-r ../requirements.txt (line 1)) (42.0.5)\n",
      "Requirement already satisfied: msal>=1.30.0 in c:\\python312\\lib\\site-packages (from azure-identity->-r ../requirements.txt (line 1)) (1.31.1)\n",
      "Requirement already satisfied: msal-extensions>=1.2.0 in c:\\python312\\lib\\site-packages (from azure-identity->-r ../requirements.txt (line 1)) (1.2.0)\n",
      "Requirement already satisfied: typing-extensions>=4.0.0 in c:\\python312\\lib\\site-packages (from azure-identity->-r ../requirements.txt (line 1)) (4.12.2)\n",
      "Requirement already satisfied: charset-normalizer<4,>=2 in c:\\python312\\lib\\site-packages (from requests->-r ../requirements.txt (line 3)) (3.3.2)\n",
      "Requirement already satisfied: idna<4,>=2.5 in c:\\python312\\lib\\site-packages (from requests->-r ../requirements.txt (line 3)) (3.6)\n",
      "Requirement already satisfied: urllib3<3,>=1.21.1 in c:\\python312\\lib\\site-packages (from requests->-r ../requirements.txt (line 3)) (2.2.1)\n",
      "Requirement already satisfied: certifi>=2017.4.17 in c:\\python312\\lib\\site-packages (from requests->-r ../requirements.txt (line 3)) (2024.2.2)\n",
      "Requirement already satisfied: six>=1.11.0 in c:\\users\\xiaoqiye\\appdata\\roaming\\python\\python312\\site-packages (from azure-core>=1.31.0->azure-identity->-r ../requirements.txt (line 1)) (1.16.0)\n",
      "Requirement already satisfied: cffi>=1.12 in c:\\python312\\lib\\site-packages (from cryptography>=2.5->azure-identity->-r ../requirements.txt (line 1)) (1.16.0)\n",
      "Requirement already satisfied: PyJWT<3,>=1.0.0 in c:\\python312\\lib\\site-packages (from PyJWT[crypto]<3,>=1.0.0->msal>=1.30.0->azure-identity->-r ../requirements.txt (line 1)) (2.9.0)\n",
      "Requirement already satisfied: portalocker<3,>=1.4 in c:\\python312\\lib\\site-packages (from msal-extensions>=1.2.0->azure-identity->-r ../requirements.txt (line 1)) (2.10.1)\n",
      "Requirement already satisfied: pycparser in c:\\python312\\lib\\site-packages (from cffi>=1.12->cryptography>=2.5->azure-identity->-r ../requirements.txt (line 1)) (2.21)\n",
      "Requirement already satisfied: pywin32>=226 in c:\\users\\xiaoqiye\\appdata\\roaming\\python\\python312\\site-packages (from portalocker<3,>=1.4->msal-extensions>=1.2.0->azure-identity->-r ../requirements.txt (line 1)) (306)\n"
     ]
    }
   ],
   "source": [
    "%pip install -r ../requirements.txt"
   ]
  },
  {
   "cell_type": "markdown",
   "metadata": {},
   "source": [
    "## Analyzer Templates"
   ]
  },
  {
   "cell_type": "markdown",
   "metadata": {},
   "source": [
    "Below is a collection of analyzer templates designed to extract fields from various input file types.\n",
    "\n",
    "These templates are highly customizable, allowing you to modify them to suit your specific needs. For additional verified templates from Microsoft, please visit [here](../analyzer_templates/README.md)."
   ]
  },
  {
   "cell_type": "code",
   "execution_count": 201,
   "metadata": {},
   "outputs": [],
   "source": [
    "extraction_templates = {\n",
    "    \"receipt\":            ('../analyzer_templates/receipt.json',         '../data/receipt.png'            ),\n",
    "    \"invoice\":            ('../analyzer_templates/invoice.json',         '../data/invoice.pdf'            ),\n",
    "    \"driverguide\":        ('../analyzer_templates/invoice.json',         '../data/driverguide.pdf'            ),\n",
    "    \"chart\":              ('../analyzer_templates/image_chart.json',     '../data/pieChart.jpg'           ),\n",
    "    \"call_recording\":     ('../analyzer_templates/call_recording_analytics.json', '../data/callCenterRecording.mp3'),\n",
    "    \"conversation_audio\": ('../analyzer_templates/conversational_audio_analytics.json', '../data/callCenterRecording.mp3'),\n",
    "    \"marketing_video\":    ('../analyzer_templates/marketing_video.json', '../data/FlightSimulator.mp4'  ),      \n",
    "    \"driving_video\":    ('../analyzer_templates/video_segment_description.json', '../data/redlight_front.mp4'       )\n",
    "}"
   ]
  },
  {
   "cell_type": "markdown",
   "metadata": {},
   "source": [
    "Specify the analyzer template you want to use and provide a name for the analyzer to be created based on the template."
   ]
  },
  {
   "cell_type": "code",
   "execution_count": 202,
   "metadata": {},
   "outputs": [],
   "source": [
    "import uuid\n",
    "\n",
    "#ANALYZER_TEMPLATE = \"driverguide\"\n",
    "ANALYZER_TEMPLATE = \"invoice\"\n",
    "ANALYZER_TEMPLATE2 = \"driving_video\"\n",
    "ANALYZER_ID = \"field-extraction-sample-\" + str(uuid.uuid4())\n",
    "ANALYZER_ID2 = \"field-extraction-sample-\" + str(uuid.uuid4())\n",
    "\n",
    "(analyzer_template_path, analyzer_sample_file_path) = extraction_templates[ANALYZER_TEMPLATE]\n",
    "(analyzer_template_path2, analyzer_sample_file_path2) = extraction_templates[ANALYZER_TEMPLATE2]"
   ]
  },
  {
   "cell_type": "markdown",
   "metadata": {},
   "source": [
    "## Create Azure AI Content Understanding Client\n",
    "\n",
    "> The [AzureContentUnderstandingClient](../python/content_understanding_client.py) is a utility class containing functions to interact with the Content Understanding API. Before the official release of the Content Understanding SDK, it can be regarded as a lightweight SDK.\n"
   ]
  },
  {
   "cell_type": "code",
   "execution_count": 203,
   "metadata": {},
   "outputs": [
    {
     "name": "stderr",
     "output_type": "stream",
     "text": [
      "INFO:azure.identity._credentials.environment:No environment configuration found.\n",
      "INFO:azure.identity._credentials.managed_identity:ManagedIdentityCredential will use IMDS\n",
      "INFO:azure.core.pipeline.policies.http_logging_policy:Request URL: 'http://169.254.169.254/metadata/identity/oauth2/token?api-version=REDACTED&resource=REDACTED'\n",
      "Request method: 'GET'\n",
      "Request headers:\n",
      "    'User-Agent': 'azsdk-python-identity/1.19.0 Python/3.12.9 (Windows-11-10.0.26100-SP0)'\n",
      "No body was attached to the request\n",
      "INFO:azure.identity._credentials.chained:DefaultAzureCredential acquired a token from AzureCliCredential\n"
     ]
    }
   ],
   "source": [
    "import logging\n",
    "import json\n",
    "import os\n",
    "import sys\n",
    "from pathlib import Path\n",
    "from dotenv import find_dotenv, load_dotenv\n",
    "from azure.identity import DefaultAzureCredential, get_bearer_token_provider\n",
    "\n",
    "load_dotenv(find_dotenv())\n",
    "logging.basicConfig(level=logging.INFO)\n",
    "\n",
    "AZURE_AI_ENDPOINT = os.getenv(\"AZURE_AI_ENDPOINT\")\n",
    "AZURE_AI_API_VERSION = os.getenv(\"AZURE_AI_API_VERSION\", \"2024-12-01-preview\")\n",
    "\n",
    "# Add the parent directory to the path to use shared modules\n",
    "parent_dir = Path(Path.cwd()).parent\n",
    "sys.path.append(str(parent_dir))\n",
    "from python.content_understanding_client import AzureContentUnderstandingClient\n",
    "\n",
    "credential = DefaultAzureCredential()\n",
    "token_provider = get_bearer_token_provider(credential, \"https://cognitiveservices.azure.com/.default\")\n",
    "\n",
    "client = AzureContentUnderstandingClient(\n",
    "    endpoint=AZURE_AI_ENDPOINT,\n",
    "    api_version=AZURE_AI_API_VERSION,\n",
    "    token_provider=token_provider,\n",
    "    x_ms_useragent=\"azure-ai-content-understanding-python/field_extraction\", # This header is used for sample usage telemetry, please comment out this line if you want to opt out.\n",
    ")"
   ]
  },
  {
   "cell_type": "markdown",
   "metadata": {},
   "source": [
    "## Create Analyzer from the Template"
   ]
  },
  {
   "cell_type": "code",
   "execution_count": 204,
   "metadata": {},
   "outputs": [
    {
     "name": "stderr",
     "output_type": "stream",
     "text": [
      "INFO:python.content_understanding_client:Analyzer field-extraction-sample-d2aca421-b74c-423e-bdaa-54dd07a96dce create request accepted.\n",
      "INFO:python.content_understanding_client:Analyzer field-extraction-sample-8f8467ff-509d-4480-8d87-cf12306192c8 create request accepted.\n",
      "INFO:python.content_understanding_client:Request 05a5e0df-9a53-4c8f-9df7-13344071af80 in progress ...\n",
      "INFO:python.content_understanding_client:Request 05a5e0df-9a53-4c8f-9df7-13344071af80 in progress ...\n",
      "INFO:python.content_understanding_client:Request 05a5e0df-9a53-4c8f-9df7-13344071af80 in progress ...\n",
      "INFO:python.content_understanding_client:Request result is ready after 8.37 seconds.\n",
      "INFO:python.content_understanding_client:Request result is ready after 0.00 seconds.\n"
     ]
    },
    {
     "name": "stdout",
     "output_type": "stream",
     "text": [
      "{\n",
      "  \"id\": \"05a5e0df-9a53-4c8f-9df7-13344071af80\",\n",
      "  \"status\": \"Succeeded\",\n",
      "  \"result\": {\n",
      "    \"analyzerId\": \"field-extraction-sample-d2aca421-b74c-423e-bdaa-54dd07a96dce\",\n",
      "    \"description\": \"Sample invoice analyzer\",\n",
      "    \"createdAt\": \"2025-02-06T21:52:02Z\",\n",
      "    \"lastModifiedAt\": \"2025-02-06T21:52:12Z\",\n",
      "    \"config\": {\n",
      "      \"returnDetails\": false,\n",
      "      \"enableOcr\": true,\n",
      "      \"enableLayout\": true,\n",
      "      \"enableBarcode\": false,\n",
      "      \"enableFormula\": false\n",
      "    },\n",
      "    \"fieldSchema\": {\n",
      "      \"fields\": {\n",
      "        \"VendorName\": {\n",
      "          \"type\": \"string\",\n",
      "          \"method\": \"extract\",\n",
      "          \"description\": \"Vendor issuing the invoice\"\n",
      "        },\n",
      "        \"Items\": {\n",
      "          \"type\": \"array\",\n",
      "          \"method\": \"extract\",\n",
      "          \"items\": {\n",
      "            \"type\": \"object\",\n",
      "            \"properties\": {\n",
      "              \"Description\": {\n",
      "                \"type\": \"string\",\n",
      "                \"method\": \"extract\",\n",
      "                \"description\": \"Description of the item\"\n",
      "              },\n",
      "              \"Amount\": {\n",
      "                \"type\": \"number\",\n",
      "                \"method\": \"extract\",\n",
      "                \"description\": \"Amount of the item\"\n",
      "              }\n",
      "            }\n",
      "          }\n",
      "        }\n",
      "      }\n",
      "    },\n",
      "    \"warnings\": [],\n",
      "    \"status\": \"ready\",\n",
      "    \"scenario\": \"document\"\n",
      "  }\n",
      "}\n",
      "{\n",
      "  \"id\": \"96c0133f-976a-4cbd-93b9-ebeaed686765\",\n",
      "  \"status\": \"Succeeded\",\n",
      "  \"result\": {\n",
      "    \"analyzerId\": \"field-extraction-sample-8f8467ff-509d-4480-8d87-cf12306192c8\",\n",
      "    \"description\": \"The analyzer defintion for Video Segments.\",\n",
      "    \"createdAt\": \"2025-02-06T21:52:03Z\",\n",
      "    \"lastModifiedAt\": \"2025-02-06T21:52:03Z\",\n",
      "    \"config\": {\n",
      "      \"locales\": [\n",
      "        \"en-US\",\n",
      "        \"es-ES\",\n",
      "        \"es-MX\",\n",
      "        \"fr-FR\",\n",
      "        \"hi-IN\",\n",
      "        \"it-IT\",\n",
      "        \"ja-JP\",\n",
      "        \"ko-KR\",\n",
      "        \"pt-BR\",\n",
      "        \"zh-CN\"\n",
      "      ],\n",
      "      \"returnDetails\": true,\n",
      "      \"enableFace\": false\n",
      "    },\n",
      "    \"fieldSchema\": {\n",
      "      \"name\": \"Segment Description Field Schema\",\n",
      "      \"fields\": {\n",
      "        \"SegmentDescription\": {\n",
      "          \"type\": \"string\",\n",
      "          \"description\": \"A concise summary of the video's content, highlighting key themes, subjects, and visuals.\"\n",
      "        },\n",
      "        \"ShotType\": {\n",
      "          \"type\": \"string\",\n",
      "          \"description\": \"Camera shot type\"\n",
      "        },\n",
      "        \"Background\": {\n",
      "          \"type\": \"string\",\n",
      "          \"description\": \"Details about the physical location shown in the video, such as city, region, landmark, and whether it is an indoor or outdoor setting.\"\n",
      "        },\n",
      "        \"Redlight\": {\n",
      "          \"type\": \"boolean\",\n",
      "          \"description\": \"describe if the car stopped when the traffic light is red\"\n",
      "        },\n",
      "        \"Redlight_behavior\": {\n",
      "          \"type\": \"string\",\n",
      "          \"description\": \"describe the detail behaviors of the driver when the traffic light is red\"\n",
      "        },\n",
      "        \"Stopsign\": {\n",
      "          \"type\": \"boolean\",\n",
      "          \"description\": \"describe if the car stopped at the stop sign\"\n",
      "        },\n",
      "        \"Stopsign_behavior\": {\n",
      "          \"type\": \"string\",\n",
      "          \"description\": \"describe the detail behaviors of the driver in front of the stop sign\"\n",
      "        }\n",
      "      }\n",
      "    },\n",
      "    \"warnings\": [],\n",
      "    \"status\": \"ready\",\n",
      "    \"scenario\": \"videoShot\"\n",
      "  }\n",
      "}\n"
     ]
    }
   ],
   "source": [
    "response = client.begin_create_analyzer(ANALYZER_ID, analyzer_template_path=analyzer_template_path)\n",
    "response2 = client.begin_create_analyzer(ANALYZER_ID2, analyzer_template_path=analyzer_template_path2)\n",
    "result1 = client.poll_result(response)\n",
    "result2 = client.poll_result(response2)\n",
    "\n",
    "print(json.dumps(result1, indent=2))\n",
    "print(json.dumps(result2, indent=2))"
   ]
  },
  {
   "cell_type": "markdown",
   "metadata": {},
   "source": [
    "## Extract Fields Using the Analyzer"
   ]
  },
  {
   "cell_type": "markdown",
   "metadata": {},
   "source": [
    "After the analyzer is successfully created, we can use it to analyze our input files."
   ]
  },
  {
   "cell_type": "code",
   "execution_count": 205,
   "metadata": {},
   "outputs": [
    {
     "name": "stderr",
     "output_type": "stream",
     "text": [
      "INFO:python.content_understanding_client:Analyzing file ../data/invoice.pdf with analyzer: field-extraction-sample-d2aca421-b74c-423e-bdaa-54dd07a96dce\n",
      "INFO:python.content_understanding_client:Analyzing file ../data/redlight_front.mp4 with analyzer: field-extraction-sample-8f8467ff-509d-4480-8d87-cf12306192c8\n",
      "INFO:python.content_understanding_client:Request result is ready after 0.00 seconds.\n",
      "INFO:python.content_understanding_client:Request 5659e0ff-9e48-4447-a315-c193507ece50 in progress ...\n",
      "INFO:python.content_understanding_client:Request 5659e0ff-9e48-4447-a315-c193507ece50 in progress ...\n",
      "INFO:python.content_understanding_client:Request 5659e0ff-9e48-4447-a315-c193507ece50 in progress ...\n",
      "INFO:python.content_understanding_client:Request 5659e0ff-9e48-4447-a315-c193507ece50 in progress ...\n",
      "INFO:python.content_understanding_client:Request 5659e0ff-9e48-4447-a315-c193507ece50 in progress ...\n",
      "INFO:python.content_understanding_client:Request 5659e0ff-9e48-4447-a315-c193507ece50 in progress ...\n",
      "INFO:python.content_understanding_client:Request 5659e0ff-9e48-4447-a315-c193507ece50 in progress ...\n",
      "INFO:python.content_understanding_client:Request 5659e0ff-9e48-4447-a315-c193507ece50 in progress ...\n",
      "INFO:python.content_understanding_client:Request 5659e0ff-9e48-4447-a315-c193507ece50 in progress ...\n",
      "INFO:python.content_understanding_client:Request 5659e0ff-9e48-4447-a315-c193507ece50 in progress ...\n",
      "INFO:python.content_understanding_client:Request 5659e0ff-9e48-4447-a315-c193507ece50 in progress ...\n",
      "INFO:python.content_understanding_client:Request 5659e0ff-9e48-4447-a315-c193507ece50 in progress ...\n",
      "INFO:python.content_understanding_client:Request 5659e0ff-9e48-4447-a315-c193507ece50 in progress ...\n",
      "INFO:python.content_understanding_client:Request 5659e0ff-9e48-4447-a315-c193507ece50 in progress ...\n",
      "INFO:python.content_understanding_client:Request 5659e0ff-9e48-4447-a315-c193507ece50 in progress ...\n",
      "INFO:python.content_understanding_client:Request 5659e0ff-9e48-4447-a315-c193507ece50 in progress ...\n",
      "INFO:python.content_understanding_client:Request 5659e0ff-9e48-4447-a315-c193507ece50 in progress ...\n",
      "INFO:python.content_understanding_client:Request 5659e0ff-9e48-4447-a315-c193507ece50 in progress ...\n",
      "INFO:python.content_understanding_client:Request result is ready after 49.89 seconds.\n"
     ]
    },
    {
     "name": "stdout",
     "output_type": "stream",
     "text": [
      "{\n",
      "  \"id\": \"145737e6-dc9d-41f1-a9f7-3226ab8ffec0\",\n",
      "  \"status\": \"Succeeded\",\n",
      "  \"result\": {\n",
      "    \"analyzerId\": \"field-extraction-sample-d2aca421-b74c-423e-bdaa-54dd07a96dce\",\n",
      "    \"apiVersion\": \"2024-12-01-preview\",\n",
      "    \"createdAt\": \"2025-02-06T21:52:21Z\",\n",
      "    \"warnings\": [],\n",
      "    \"contents\": [\n",
      "      {\n",
      "        \"markdown\": \"CONTOSO LTD.\\n\\n\\n# INVOICE\\n\\nContoso Headquarters\\n123 456th St\\nNew York, NY, 10001\\n\\nINVOICE: INV-100\\n\\nINVOICE DATE: 11/15/2019\\n\\nDUE DATE: 12/15/2019\\n\\nCUSTOMER NAME: MICROSOFT CORPORATION\\n\\nSERVICE PERIOD: 10/14/2019 - 11/14/2019\\n\\nCUSTOMER ID: CID-12345\\n\\nMicrosoft Corp\\n123 Other St,\\nRedmond WA, 98052\\n\\nBILL TO:\\n\\nMicrosoft Finance\\n\\n123 Bill St,\\n\\nRedmond WA, 98052\\n\\nSHIP TO:\\n\\nMicrosoft Delivery\\n\\n123 Ship St,\\n\\nRedmond WA, 98052\\n\\nSERVICE ADDRESS:\\nMicrosoft Services\\n123 Service St,\\nRedmond WA, 98052\\n\\n\\n<table>\\n<tr>\\n<th>SALESPERSON</th>\\n<th>P.O. NUMBER</th>\\n<th>REQUISITIONER</th>\\n<th>SHIPPED VIA</th>\\n<th>F.O.B. POINT</th>\\n<th>TERMS</th>\\n</tr>\\n<tr>\\n<td></td>\\n<td>PO-3333</td>\\n<td></td>\\n<td></td>\\n<td></td>\\n<td></td>\\n</tr>\\n</table>\\n\\n\\n<table>\\n<tr>\\n<th>DATE</th>\\n<th>ITEM CODE</th>\\n<th>DESCRIPTION</th>\\n<th>QTY</th>\\n<th>UM</th>\\n<th>PRICE</th>\\n<th>TAX</th>\\n<th>AMOUNT</th>\\n</tr>\\n<tr>\\n<td>3/4/2021</td>\\n<td>A123</td>\\n<td>Consulting Services</td>\\n<td>2</td>\\n<td>hours</td>\\n<td>$30.00</td>\\n<td>$6.00</td>\\n<td>$60.00</td>\\n</tr>\\n<tr>\\n<td>3/5/2021</td>\\n<td>B456</td>\\n<td>Document Fee</td>\\n<td>3</td>\\n<td></td>\\n<td>$10.00</td>\\n<td>$3.00</td>\\n<td>$30.00</td>\\n</tr>\\n<tr>\\n<td>3/6/2021</td>\\n<td>C789</td>\\n<td>Printing Fee</td>\\n<td>10</td>\\n<td>pages</td>\\n<td>$1.00</td>\\n<td>$1.00</td>\\n<td>$10.00</td>\\n</tr>\\n</table>\\n\\n\\n<table>\\n<tr>\\n<td>SUBTOTAL</td>\\n<td>$100.00</td>\\n</tr>\\n<tr>\\n<td>SALES TAX</td>\\n<td>$10.00</td>\\n</tr>\\n<tr>\\n<td>TOTAL</td>\\n<td>$110.00</td>\\n</tr>\\n<tr>\\n<td>PREVIOUS UNPAID BALANCE</td>\\n<td>$500.00</td>\\n</tr>\\n<tr>\\n<td>AMOUNT DUE</td>\\n<td>$610.00</td>\\n</tr>\\n</table>\\n\\n\\nTHANK YOU FOR YOUR BUSINESS!\\n\\nREMIT TO:\\n\\nContoso Billing\\n\\n123 Remit St\\n\\nNew York, NY, 10001\\n\",\n",
      "        \"fields\": {\n",
      "          \"VendorName\": {\n",
      "            \"type\": \"string\",\n",
      "            \"valueString\": \"CONTOSO LTD.\",\n",
      "            \"spans\": [\n",
      "              {\n",
      "                \"offset\": 0,\n",
      "                \"length\": 12\n",
      "              }\n",
      "            ],\n",
      "            \"confidence\": 0.929,\n",
      "            \"source\": \"D(1,0.5729,0.6582,2.3353,0.6582,2.3353,0.8957,0.5729,0.8957)\"\n",
      "          },\n",
      "          \"Items\": {\n",
      "            \"type\": \"array\",\n",
      "            \"valueArray\": [\n",
      "              {\n",
      "                \"type\": \"object\",\n",
      "                \"valueObject\": {\n",
      "                  \"Description\": {\n",
      "                    \"type\": \"string\",\n",
      "                    \"valueString\": \"Consulting Services\",\n",
      "                    \"spans\": [\n",
      "                      {\n",
      "                        \"offset\": 909,\n",
      "                        \"length\": 19\n",
      "                      }\n",
      "                    ],\n",
      "                    \"confidence\": 0.971,\n",
      "                    \"source\": \"D(1,2.3264,5.673,3.6413,5.673,3.6413,5.8402,2.3264,5.8402)\"\n",
      "                  },\n",
      "                  \"Amount\": {\n",
      "                    \"type\": \"number\",\n",
      "                    \"valueNumber\": 60,\n",
      "                    \"spans\": [\n",
      "                      {\n",
      "                        \"offset\": 995,\n",
      "                        \"length\": 6\n",
      "                      }\n",
      "                    ],\n",
      "                    \"confidence\": 0.989,\n",
      "                    \"source\": \"D(1,7.4507,5.6684,7.9245,5.6684,7.9245,5.8323,7.4507,5.8323)\"\n",
      "                  }\n",
      "                }\n",
      "              },\n",
      "              {\n",
      "                \"type\": \"object\",\n",
      "                \"valueObject\": {\n",
      "                  \"Description\": {\n",
      "                    \"type\": \"string\",\n",
      "                    \"valueString\": \"Document Fee\",\n",
      "                    \"spans\": [\n",
      "                      {\n",
      "                        \"offset\": 1054,\n",
      "                        \"length\": 12\n",
      "                      }\n",
      "                    ],\n",
      "                    \"confidence\": 0.978,\n",
      "                    \"source\": \"D(1,2.3255,5.9758,3.3258,5.9758,3.3258,6.1319,2.3255,6.1319)\"\n",
      "                  },\n",
      "                  \"Amount\": {\n",
      "                    \"type\": \"number\",\n",
      "                    \"valueNumber\": 30,\n",
      "                    \"spans\": [\n",
      "                      {\n",
      "                        \"offset\": 1128,\n",
      "                        \"length\": 6\n",
      "                      }\n",
      "                    ],\n",
      "                    \"confidence\": 0.992,\n",
      "                    \"source\": \"D(1,7.4519,5.9669,7.9245,5.9669,7.9245,6.1322,7.4519,6.1322)\"\n",
      "                  }\n",
      "                }\n",
      "              },\n",
      "              {\n",
      "                \"type\": \"object\",\n",
      "                \"valueObject\": {\n",
      "                  \"Description\": {\n",
      "                    \"type\": \"string\",\n",
      "                    \"valueString\": \"Printing Fee\",\n",
      "                    \"spans\": [\n",
      "                      {\n",
      "                        \"offset\": 1187,\n",
      "                        \"length\": 12\n",
      "                      }\n",
      "                    ],\n",
      "                    \"confidence\": 0.978,\n",
      "                    \"source\": \"D(1,2.3234,6.2686,3.1488,6.2686,3.1488,6.4426,2.3234,6.4426)\"\n",
      "                  },\n",
      "                  \"Amount\": {\n",
      "                    \"type\": \"number\",\n",
      "                    \"valueNumber\": 10,\n",
      "                    \"spans\": [\n",
      "                      {\n",
      "                        \"offset\": 1266,\n",
      "                        \"length\": 6\n",
      "                      }\n",
      "                    ],\n",
      "                    \"confidence\": 0.997,\n",
      "                    \"source\": \"D(1,7.4516,6.2612,7.9245,6.2612,7.9245,6.4318,7.4516,6.4318)\"\n",
      "                  }\n",
      "                }\n",
      "              }\n",
      "            ]\n",
      "          }\n",
      "        },\n",
      "        \"kind\": \"document\",\n",
      "        \"startPageNumber\": 1,\n",
      "        \"endPageNumber\": 1,\n",
      "        \"unit\": \"inch\",\n",
      "        \"pages\": [\n",
      "          {\n",
      "            \"pageNumber\": 1,\n",
      "            \"angle\": -0.0039,\n",
      "            \"width\": 8.5,\n",
      "            \"height\": 11\n",
      "          }\n",
      "        ]\n",
      "      }\n",
      "    ]\n",
      "  }\n",
      "}\n"
     ]
    }
   ],
   "source": [
    "response = client.begin_analyze(ANALYZER_ID, file_location=analyzer_sample_file_path)\n",
    "response2 = client.begin_analyze(ANALYZER_ID2, file_location=analyzer_sample_file_path2)\n",
    "result1 = client.poll_result(response)\n",
    "result2 = client.poll_result(response2)\n",
    "\n",
    "print(json.dumps(result1, indent=2))\n",
    "#print(json.dumps(result2, indent=2))\n",
    "\n",
    "# Save result1 to a JSON file  \n",
    "with open('result_pdf.json', 'w') as json_file:  \n",
    "    json.dump(result1, json_file, indent=2)  \n",
    "\n",
    "# Save result2 to a JSON file  \n",
    "with open('result_video.json', 'w') as json_file:  \n",
    "    json.dump(result2, json_file, indent=2)  \n",
    "\n"
   ]
  },
  {
   "cell_type": "code",
   "execution_count": 206,
   "metadata": {},
   "outputs": [],
   "source": [
    "## result analysis\n",
    "import json  \n",
    "  \n",
    "# Load the JSON data from result.json  \n",
    "with open('result_pdf.json', 'r') as json_file:  \n",
    "    pdf_results = json.load(json_file)  \n",
    "  \n",
    "# Load the JSON data from result_video.json  \n",
    "with open('result_video.json', 'r') as json_file:  \n",
    "    video_results = json.load(json_file)  \n",
    "  \n",
    "# Extract boolean values from result_video.json  \n",
    "boolean_values = []  \n",
    "for item in video_results.get('contents', []):  \n",
    "    for field in item.get('fields', {}).values():  \n",
    "        if field.get('type') == 'boolean':  \n",
    "            boolean_values.append(field.get('valueBoolean'))  \n",
    "  \n",
    "# Function to analyze a single entry from pdf_results  \n",
    "def analyze_pdf_result(pdf_entry, boolean_values):  \n",
    "    # Check for specific conditions in pdf_entry  \n",
    "    red_light = pdf_entry.get('fields', {}).get('redlight', {}).get('valueBoolean', False)  \n",
    "    stop_sign = pdf_entry.get('fields', {}).get('stopsign', {}).get('valueBoolean', False)  \n",
    "  \n",
    "    # Compare these with boolean values from result2.json  \n",
    "    if red_light and False in boolean_values:  \n",
    "        return 'Failed'  \n",
    "    elif stop_sign and True in boolean_values:  \n",
    "        return 'Failed'  \n",
    "    else:  \n",
    "        return 'Pass'  \n",
    "  \n",
    "# Analyze each entry in pdf_results  \n",
    "analysis_results = []  \n",
    "for content in pdf_results.get('contents', []):  \n",
    "    analysis = analyze_pdf_result(content, boolean_values)  \n",
    "    analysis_results.append({  \n",
    "        'content': content,  \n",
    "        'analysis': analysis  \n",
    "    })  \n",
    "  \n",
    "# Output the analysis results  \n",
    "for analysis in analysis_results:  \n",
    "    print(f\"Content: {analysis['content']}, Analysis: {analysis['analysis']}\")  \n",
    "  \n",
    "# Optionally save the analysis results to a new JSON file  \n",
    "with open('analysis_results.json', 'w') as analysis_file:  \n",
    "    json.dump(analysis_results, analysis_file, indent=2)  \n"
   ]
  },
  {
   "cell_type": "markdown",
   "metadata": {},
   "source": [
    "## Clean Up\n",
    "Optionally, delete the sample analyzer from your resource. In typical usage scenarios, you would analyze multiple files using the same analyzer."
   ]
  },
  {
   "cell_type": "code",
   "execution_count": 207,
   "metadata": {},
   "outputs": [
    {
     "name": "stderr",
     "output_type": "stream",
     "text": [
      "INFO:python.content_understanding_client:Analyzer field-extraction-sample-d2aca421-b74c-423e-bdaa-54dd07a96dce deleted.\n"
     ]
    },
    {
     "data": {
      "text/plain": [
       "<Response [204]>"
      ]
     },
     "execution_count": 207,
     "metadata": {},
     "output_type": "execute_result"
    }
   ],
   "source": [
    "client.delete_analyzer(ANALYZER_ID)"
   ]
  }
 ],
 "metadata": {
  "kernelspec": {
   "display_name": "Python 3",
   "language": "python",
   "name": "python3"
  },
  "language_info": {
   "codemirror_mode": {
    "name": "ipython",
    "version": 3
   },
   "file_extension": ".py",
   "mimetype": "text/x-python",
   "name": "python",
   "nbconvert_exporter": "python",
   "pygments_lexer": "ipython3",
   "version": "3.12.9"
  }
 },
 "nbformat": 4,
 "nbformat_minor": 2
}
